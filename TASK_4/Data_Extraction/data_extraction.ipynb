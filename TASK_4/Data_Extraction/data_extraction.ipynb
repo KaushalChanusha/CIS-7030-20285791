{
 "cells": [
  {
   "cell_type": "markdown",
   "metadata": {},
   "source": [
    "The 'Naadhagama' music concert is selected as event for analysis. The event's social media data is grathered throgh Instagram social media platform. The Instagram was selected because large number of Instagram posts related to this event. In addition to that, most of these posts are related to personal profiles of the partipats on the event.\n",
    "\n",
    "<H4>Apify Instagram Hashtag Scraper API is used for scrape the 'Naadhagama' Instagram posts.</H4>\n",
    "\n",
    "The #naadhagama, #naadagama, #nadagama, #naadhagama2023, #nadagamafterparty, #naadhagamamatara, #naadagamanuwaraeliya hashtags are used to scraped the data.\n",
    "\n",
    "The saved as a Json file."
   ]
  },
  {
   "cell_type": "markdown",
   "metadata": {},
   "source": [
    "<H2>Extracted requared fields from Instagram Posts Json File</H2>\n",
    "\n",
    "The required fields are extracted from the Json files which contains the 'Naadhagama' post data."
   ]
  },
  {
   "cell_type": "code",
   "execution_count": 1,
   "metadata": {},
   "outputs": [
    {
     "name": "stdout",
     "output_type": "stream",
     "text": [
      "Data has been successfully written to extracted_data/instagram_post_data.csv.\n"
     ]
    }
   ],
   "source": [
    "import json\n",
    "import csv\n",
    "\n",
    "# Specify the file paths for the JSON and CSV files\n",
    "json_file_paths = ['scraped_data/instagram_post_data_01.json', 'scraped_data/instagram_post_data_02.json', \n",
    "                   'scraped_data/instagram_post_data_03.json']\n",
    "csv_file_path = 'extracted_data/instagram_post_data.csv'\n",
    "\n",
    "# Initialize an empty list to store all Instagram data\n",
    "all_instagram_data = []\n",
    "\n",
    "# Read data from each JSON file and append it to the list\n",
    "for json_file_path in json_file_paths:\n",
    "    with open(json_file_path, 'r') as json_file:\n",
    "        instagram_data = json.load(json_file)\n",
    "        all_instagram_data.extend(instagram_data)\n",
    "\n",
    "# Define the fields to be extracted from Apify scraped data file\n",
    "fields = ['id', 'caption', 'ownerId', 'ownerFullName', 'ownerUsername', 'url', 'commentsCount', 'likesCount', 'timestamp', 'hashtags']\n",
    "\n",
    "# Open the CSV file for writing\n",
    "with open(csv_file_path, 'w', newline='') as csv_file:\n",
    "    csv_writer = csv.DictWriter(csv_file, fieldnames=fields)\n",
    "    csv_writer.writeheader()\n",
    "\n",
    "    # Write data from all Instagram data to the CSV file\n",
    "    for post in all_instagram_data:\n",
    "        row_data = {field: post.get(field, '') for field in fields}\n",
    "        csv_writer.writerow(row_data)\n",
    "\n",
    "print(f'Data has been successfully written to {csv_file_path}.')"
   ]
  }
 ],
 "metadata": {
  "kernelspec": {
   "display_name": "Python 3",
   "language": "python",
   "name": "python3"
  },
  "language_info": {
   "codemirror_mode": {
    "name": "ipython",
    "version": 3
   },
   "file_extension": ".py",
   "mimetype": "text/x-python",
   "name": "python",
   "nbconvert_exporter": "python",
   "pygments_lexer": "ipython3",
   "version": "3.11.4"
  },
  "orig_nbformat": 4
 },
 "nbformat": 4,
 "nbformat_minor": 2
}
