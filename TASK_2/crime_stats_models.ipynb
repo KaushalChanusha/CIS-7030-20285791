{
 "cells": [
  {
   "cell_type": "markdown",
   "metadata": {},
   "source": [
    "<H1>Spatial Statistics Models</H1>\n",
    "\n",
    "<H3>Example Code Snippet</H3>"
   ]
  },
  {
   "cell_type": "code",
   "execution_count": 6,
   "metadata": {},
   "outputs": [
    {
     "data": {
      "text/plain": [
       "'\\n!pip install pandas\\n!pip install geopandas\\n!pip install esda\\n!pip install libpysal\\n'"
      ]
     },
     "execution_count": 6,
     "metadata": {},
     "output_type": "execute_result"
    }
   ],
   "source": [
    "# Install these libraries if you don't have them already\n",
    "\"\"\"\n",
    "!pip install pandas\n",
    "!pip install geopandas\n",
    "!pip install esda\n",
    "!pip install libpysal\n",
    "\"\"\""
   ]
  },
  {
   "cell_type": "code",
   "execution_count": 7,
   "metadata": {},
   "outputs": [],
   "source": [
    "# Required Python Packages\n",
    "import pandas as pd\n",
    "import geopandas as gpd\n",
    "from pysal.explore import esda\n",
    "from pysal.lib import weights"
   ]
  },
  {
   "cell_type": "code",
   "execution_count": 8,
   "metadata": {},
   "outputs": [],
   "source": [
    "# Read the data file (crime_Incidents_2016.csv)\n",
    "\n",
    "file_path = 'crime_incidents_2016.csv'\n",
    "\n",
    "# Read the CSV file into a pandas DataFrame\n",
    "crime_data = pd.read_csv(file_path)\n",
    "crime_data.columns = crime_data.columns.str.lower()"
   ]
  },
  {
   "cell_type": "markdown",
   "metadata": {},
   "source": [
    "<H2>Calculate the Spatial Statistics</H2>\n",
    "\n",
    "<H3>mean center, standard distance, and spatial autocorrelation</H3>"
   ]
  },
  {
   "cell_type": "code",
   "execution_count": 9,
   "metadata": {},
   "outputs": [
    {
     "name": "stdout",
     "output_type": "stream",
     "text": [
      "Mean Center: -77.00732238829133 38.90918046534378\n",
      "Standard Distance: 0.0006711032061620815\n"
     ]
    },
    {
     "name": "stderr",
     "output_type": "stream",
     "text": [
      "/Library/Frameworks/Python.framework/Versions/3.11/lib/python3.11/site-packages/libpysal/weights/weights.py:224: UserWarning: The weights matrix is not fully connected: \n",
      " There are 396 disconnected components.\n",
      "  warnings.warn(message)\n"
     ]
    },
    {
     "name": "stdout",
     "output_type": "stream",
     "text": [
      "Moran's I: nan\n",
      "Expected Moran's I: -6.308352258390108e-05\n",
      "p-value: 0.001\n"
     ]
    }
   ],
   "source": [
    "geometry = gpd.points_from_xy(crime_data['longitude'], crime_data['latitude'])\n",
    "crime_data_df = gpd.GeoDataFrame(crime_data, geometry=geometry)\n",
    "\n",
    "# Calculate Mean Center using the unary_union property\n",
    "mean_center = crime_data_df.geometry.unary_union.centroid\n",
    "print(\"Mean Center:\", mean_center.x, mean_center.y)\n",
    "\n",
    "# Calculate Standard Distance using the unary_union property\n",
    "std_distance = crime_data_df.geometry.unary_union.distance(mean_center)\n",
    "print(\"Standard Distance:\", std_distance)\n",
    "\n",
    "# Calculate Spatial Autocorrelation using Moran's I\n",
    "w = weights.KNN.from_dataframe(crime_data_df, k=5)\n",
    "w.transform = 'r'\n",
    "\n",
    "crime_column = 'crime_incidents'\n",
    "moran = esda.Moran(crime_data_df[crime_column], w)\n",
    "\n",
    "# Moran's I statistics\n",
    "print(f\"Moran's I: {moran.I}\")\n",
    "print(f\"Expected Moran's I: {moran.EI}\")\n",
    "print(f\"p-value: {moran.p_sim}\")\n"
   ]
  }
 ],
 "metadata": {
  "kernelspec": {
   "display_name": "Python 3",
   "language": "python",
   "name": "python3"
  },
  "language_info": {
   "codemirror_mode": {
    "name": "ipython",
    "version": 3
   },
   "file_extension": ".py",
   "mimetype": "text/x-python",
   "name": "python",
   "nbconvert_exporter": "python",
   "pygments_lexer": "ipython3",
   "version": "3.11.4"
  },
  "orig_nbformat": 4
 },
 "nbformat": 4,
 "nbformat_minor": 2
}
